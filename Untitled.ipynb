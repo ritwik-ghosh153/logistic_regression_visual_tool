{
 "cells": [
  {
   "cell_type": "code",
   "execution_count": 34,
   "metadata": {},
   "outputs": [],
   "source": [
    "import numpy as np\n",
    "import pandas as pd\n",
    "import matplotlib.pyplot as plt\n",
    "from sklearn.metrics import classification_report\n",
    "from sklearn.model_selection import train_test_split"
   ]
  },
  {
   "cell_type": "code",
   "execution_count": 35,
   "metadata": {},
   "outputs": [
    {
     "data": {
      "text/html": [
       "<div>\n",
       "<style scoped>\n",
       "    .dataframe tbody tr th:only-of-type {\n",
       "        vertical-align: middle;\n",
       "    }\n",
       "\n",
       "    .dataframe tbody tr th {\n",
       "        vertical-align: top;\n",
       "    }\n",
       "\n",
       "    .dataframe thead th {\n",
       "        text-align: right;\n",
       "    }\n",
       "</style>\n",
       "<table border=\"1\" class=\"dataframe\">\n",
       "  <thead>\n",
       "    <tr style=\"text-align: right;\">\n",
       "      <th></th>\n",
       "      <th>Marks_1</th>\n",
       "      <th>Marks_2</th>\n",
       "      <th>Result</th>\n",
       "    </tr>\n",
       "  </thead>\n",
       "  <tbody>\n",
       "    <tr>\n",
       "      <th>0</th>\n",
       "      <td>34.623660</td>\n",
       "      <td>78.024693</td>\n",
       "      <td>0</td>\n",
       "    </tr>\n",
       "    <tr>\n",
       "      <th>1</th>\n",
       "      <td>30.286711</td>\n",
       "      <td>43.894998</td>\n",
       "      <td>0</td>\n",
       "    </tr>\n",
       "    <tr>\n",
       "      <th>2</th>\n",
       "      <td>35.847409</td>\n",
       "      <td>72.902198</td>\n",
       "      <td>0</td>\n",
       "    </tr>\n",
       "    <tr>\n",
       "      <th>3</th>\n",
       "      <td>60.182599</td>\n",
       "      <td>86.308552</td>\n",
       "      <td>1</td>\n",
       "    </tr>\n",
       "    <tr>\n",
       "      <th>4</th>\n",
       "      <td>79.032736</td>\n",
       "      <td>75.344376</td>\n",
       "      <td>1</td>\n",
       "    </tr>\n",
       "  </tbody>\n",
       "</table>\n",
       "</div>"
      ],
      "text/plain": [
       "     Marks_1    Marks_2  Result\n",
       "0  34.623660  78.024693       0\n",
       "1  30.286711  43.894998       0\n",
       "2  35.847409  72.902198       0\n",
       "3  60.182599  86.308552       1\n",
       "4  79.032736  75.344376       1"
      ]
     },
     "execution_count": 35,
     "metadata": {},
     "output_type": "execute_result"
    }
   ],
   "source": [
    "data = pd.read_csv(\"Dataset/marks.txt\")\n",
    "data.head()"
   ]
  },
  {
   "cell_type": "code",
   "execution_count": 37,
   "metadata": {},
   "outputs": [],
   "source": [
    "X=data.iloc[:,0:-1].values\n",
    "y=data.iloc[:,-1].values"
   ]
  },
  {
   "cell_type": "code",
   "execution_count": 59,
   "metadata": {},
   "outputs": [
    {
     "data": {
      "text/plain": [
       "80"
      ]
     },
     "execution_count": 59,
     "metadata": {},
     "output_type": "execute_result"
    }
   ],
   "source": [
    "X.shape[0]"
   ]
  },
  {
   "cell_type": "code",
   "execution_count": 60,
   "metadata": {},
   "outputs": [
    {
     "data": {
      "text/plain": [
       "(1200, 1000)"
      ]
     },
     "execution_count": 60,
     "metadata": {},
     "output_type": "execute_result"
    }
   ],
   "source": [
    "x_m.shape"
   ]
  },
  {
   "cell_type": "code",
   "execution_count": 77,
   "metadata": {},
   "outputs": [],
   "source": [
    "x_m, y_m = np.meshgrid(\n",
    "    np.arange(0, 100, step = 0.1),\n",
    "    np.arange(0, 120, step = 0.1)\n",
    ")"
   ]
  },
  {
   "cell_type": "code",
   "execution_count": 78,
   "metadata": {},
   "outputs": [
    {
     "data": {
      "text/plain": [
       "(1200, 1000)"
      ]
     },
     "execution_count": 78,
     "metadata": {},
     "output_type": "execute_result"
    }
   ],
   "source": [
    "x_m.shape"
   ]
  },
  {
   "cell_type": "code",
   "execution_count": 61,
   "metadata": {},
   "outputs": [
    {
     "data": {
      "text/plain": [
       "1200000"
      ]
     },
     "execution_count": 61,
     "metadata": {},
     "output_type": "execute_result"
    }
   ],
   "source": [
    "len(np.c_[x_m.ravel(), y_m.ravel()])"
   ]
  },
  {
   "cell_type": "code",
   "execution_count": 62,
   "metadata": {},
   "outputs": [
    {
     "data": {
      "text/plain": [
       "array([[1.000e+00, 0.000e+00, 0.000e+00],\n",
       "       [1.000e+00, 1.000e-01, 0.000e+00],\n",
       "       [1.000e+00, 2.000e-01, 0.000e+00],\n",
       "       ...,\n",
       "       [1.000e+00, 9.970e+01, 1.199e+02],\n",
       "       [1.000e+00, 9.980e+01, 1.199e+02],\n",
       "       [1.000e+00, 9.990e+01, 1.199e+02]])"
      ]
     },
     "execution_count": 62,
     "metadata": {},
     "output_type": "execute_result"
    }
   ],
   "source": [
    "np.hstack((np.ones((1200000,1)), np.c_[x_m.ravel(), y_m.ravel()]))"
   ]
  },
  {
   "cell_type": "code",
   "execution_count": 53,
   "metadata": {},
   "outputs": [
    {
     "ename": "TypeError",
     "evalue": "unhashable type: 'numpy.ndarray'",
     "output_type": "error",
     "traceback": [
      "\u001b[0;31m---------------------------------------------------------------------------\u001b[0m",
      "\u001b[0;31mTypeError\u001b[0m                                 Traceback (most recent call last)",
      "\u001b[0;32m<ipython-input-53-b3288fcf90e5>\u001b[0m in \u001b[0;36m<module>\u001b[0;34m\u001b[0m\n\u001b[0;32m----> 1\u001b[0;31m \u001b[0md\u001b[0m \u001b[0;34m=\u001b[0m \u001b[0;34m{\u001b[0m\u001b[0mx_m\u001b[0m\u001b[0;34m,\u001b[0m \u001b[0my_m\u001b[0m\u001b[0;34m}\u001b[0m\u001b[0;34m\u001b[0m\u001b[0;34m\u001b[0m\u001b[0m\n\u001b[0m\u001b[1;32m      2\u001b[0m \u001b[0mpd\u001b[0m\u001b[0;34m.\u001b[0m\u001b[0mDataFrame\u001b[0m\u001b[0;34m(\u001b[0m\u001b[0md\u001b[0m\u001b[0;34m)\u001b[0m\u001b[0;34m\u001b[0m\u001b[0;34m\u001b[0m\u001b[0m\n",
      "\u001b[0;31mTypeError\u001b[0m: unhashable type: 'numpy.ndarray'"
     ]
    }
   ],
   "source": [
    "d = {x_m, y_m}\n",
    "pd.DataFrame(d)"
   ]
  },
  {
   "cell_type": "code",
   "execution_count": 38,
   "metadata": {},
   "outputs": [
    {
     "data": {
      "text/plain": [
       "array([[ 1.        , 34.62365962, 78.02469282],\n",
       "       [ 1.        , 30.28671077, 43.89499752],\n",
       "       [ 1.        , 35.84740877, 72.90219803],\n",
       "       [ 1.        , 60.18259939, 86.3085521 ],\n",
       "       [ 1.        , 79.03273605, 75.34437644],\n",
       "       [ 1.        , 45.08327748, 56.31637178],\n",
       "       [ 1.        , 61.10666454, 96.51142588],\n",
       "       [ 1.        , 75.02474557, 46.55401354],\n",
       "       [ 1.        , 76.0987867 , 87.42056972],\n",
       "       [ 1.        , 84.43281996, 43.53339331],\n",
       "       [ 1.        , 95.86155507, 38.22527806],\n",
       "       [ 1.        , 75.01365839, 30.60326323],\n",
       "       [ 1.        , 82.30705337, 76.4819633 ],\n",
       "       [ 1.        , 69.36458876, 97.71869196],\n",
       "       [ 1.        , 39.53833914, 76.03681085],\n",
       "       [ 1.        , 53.97105215, 89.20735014],\n",
       "       [ 1.        , 69.07014406, 52.74046973],\n",
       "       [ 1.        , 67.94685548, 46.67857411],\n",
       "       [ 1.        , 70.66150955, 92.92713789],\n",
       "       [ 1.        , 76.97878373, 47.57596365],\n",
       "       [ 1.        , 67.37202755, 42.83843832],\n",
       "       [ 1.        , 89.67677575, 65.79936593],\n",
       "       [ 1.        , 50.53478829, 48.85581153],\n",
       "       [ 1.        , 34.21206098, 44.2095286 ],\n",
       "       [ 1.        , 77.92409145, 68.97235999],\n",
       "       [ 1.        , 62.27101367, 69.95445795],\n",
       "       [ 1.        , 80.19018075, 44.82162893],\n",
       "       [ 1.        , 93.1143888 , 38.80067034],\n",
       "       [ 1.        , 61.83020602, 50.25610789],\n",
       "       [ 1.        , 38.7858038 , 64.99568096],\n",
       "       [ 1.        , 61.37928945, 72.80788731],\n",
       "       [ 1.        , 85.40451939, 57.05198398],\n",
       "       [ 1.        , 52.10797973, 63.12762377],\n",
       "       [ 1.        , 52.04540477, 69.43286012],\n",
       "       [ 1.        , 40.23689374, 71.16774802],\n",
       "       [ 1.        , 54.63510555, 52.21388588],\n",
       "       [ 1.        , 33.91550011, 98.86943574],\n",
       "       [ 1.        , 64.17698887, 80.90806059],\n",
       "       [ 1.        , 74.78925296, 41.57341523],\n",
       "       [ 1.        , 34.18364003, 75.23772034],\n",
       "       [ 1.        , 83.90239366, 56.30804622],\n",
       "       [ 1.        , 51.54772027, 46.85629026],\n",
       "       [ 1.        , 94.44336777, 65.56892161],\n",
       "       [ 1.        , 82.36875376, 40.61825516],\n",
       "       [ 1.        , 51.04775177, 45.82270146],\n",
       "       [ 1.        , 62.22267576, 52.06099195],\n",
       "       [ 1.        , 77.19303493, 70.4582    ],\n",
       "       [ 1.        , 97.77159928, 86.72782233],\n",
       "       [ 1.        , 62.0730638 , 96.76882412],\n",
       "       [ 1.        , 91.5649745 , 88.69629255],\n",
       "       [ 1.        , 79.94481794, 74.16311935],\n",
       "       [ 1.        , 99.27252693, 60.999031  ],\n",
       "       [ 1.        , 90.54671411, 43.39060181],\n",
       "       [ 1.        , 34.52451385, 60.39634246],\n",
       "       [ 1.        , 50.28649612, 49.80453881],\n",
       "       [ 1.        , 49.58667722, 59.80895099],\n",
       "       [ 1.        , 97.64563396, 68.86157272],\n",
       "       [ 1.        , 32.57720017, 95.59854761],\n",
       "       [ 1.        , 74.24869137, 69.82457123],\n",
       "       [ 1.        , 71.79646206, 78.45356225],\n",
       "       [ 1.        , 75.39561147, 85.75993667],\n",
       "       [ 1.        , 35.28611282, 47.02051395],\n",
       "       [ 1.        , 56.2538175 , 39.26147251],\n",
       "       [ 1.        , 30.05882245, 49.59297387],\n",
       "       [ 1.        , 44.66826172, 66.45008615],\n",
       "       [ 1.        , 66.56089447, 41.09209808],\n",
       "       [ 1.        , 40.45755098, 97.53518549],\n",
       "       [ 1.        , 49.07256322, 51.88321182],\n",
       "       [ 1.        , 80.27957401, 92.11606081],\n",
       "       [ 1.        , 66.74671857, 60.99139403],\n",
       "       [ 1.        , 32.72283304, 43.30717306],\n",
       "       [ 1.        , 64.03932042, 78.03168802],\n",
       "       [ 1.        , 72.34649423, 96.22759297],\n",
       "       [ 1.        , 60.45788574, 73.0949981 ],\n",
       "       [ 1.        , 58.84095622, 75.85844831],\n",
       "       [ 1.        , 99.8278578 , 72.36925193],\n",
       "       [ 1.        , 47.26426911, 88.475865  ],\n",
       "       [ 1.        , 50.4581598 , 75.80985953],\n",
       "       [ 1.        , 60.45555629, 42.50840944],\n",
       "       [ 1.        , 82.22666158, 42.71987854],\n",
       "       [ 1.        , 88.91389642, 69.8037889 ],\n",
       "       [ 1.        , 94.83450672, 45.6943068 ],\n",
       "       [ 1.        , 67.31925747, 66.58935318],\n",
       "       [ 1.        , 57.23870632, 59.51428198],\n",
       "       [ 1.        , 80.366756  , 90.9601479 ],\n",
       "       [ 1.        , 68.46852179, 85.5943071 ],\n",
       "       [ 1.        , 42.07545454, 78.844786  ],\n",
       "       [ 1.        , 75.47770201, 90.424539  ],\n",
       "       [ 1.        , 78.63542435, 96.64742717],\n",
       "       [ 1.        , 52.34800399, 60.76950526],\n",
       "       [ 1.        , 94.09433113, 77.15910509],\n",
       "       [ 1.        , 90.44855097, 87.50879176],\n",
       "       [ 1.        , 55.48216114, 35.57070347],\n",
       "       [ 1.        , 74.49269242, 84.84513685],\n",
       "       [ 1.        , 89.84580671, 45.35828361],\n",
       "       [ 1.        , 83.48916274, 48.3802858 ],\n",
       "       [ 1.        , 42.26170081, 87.10385094],\n",
       "       [ 1.        , 99.31500881, 68.77540947],\n",
       "       [ 1.        , 55.34001756, 64.93193801],\n",
       "       [ 1.        , 74.775893  , 89.5298129 ]])"
      ]
     },
     "execution_count": 38,
     "metadata": {},
     "output_type": "execute_result"
    }
   ],
   "source": [
    "# Add intercept term to X\n",
    "X=np.hstack((np.ones((X.shape[0],1)),X))\n",
    "X"
   ]
  },
  {
   "cell_type": "code",
   "execution_count": 40,
   "metadata": {},
   "outputs": [],
   "source": [
    "X, xt, y, yt = train_test_split(X, y, test_size=0.2)"
   ]
  },
  {
   "cell_type": "code",
   "execution_count": 41,
   "metadata": {},
   "outputs": [],
   "source": [
    "def plotData(X, y):\n",
    "    \"\"\"\n",
    "    Plots the data points X and y into a new figure. Plots the data \n",
    "    points with * for the positive examples and o for the negative examples.   \n",
    "    \"\"\" \n",
    "    pos = y == 1\n",
    "    neg = y == 0\n",
    "    \n",
    "    plt.plot(X[pos, 0], X[pos, 1], 'k*')\n",
    "    plt.plot(X[neg, 0], X[neg, 1], 'ko', mfc='y', mec='k')"
   ]
  },
  {
   "cell_type": "code",
   "execution_count": 42,
   "metadata": {},
   "outputs": [],
   "source": [
    "def plotDecisionBoundary(plotData, theta, X, y):\n",
    "    \n",
    "    \"\"\"\n",
    "    Plots the data points X and y into a new figure with the decision boundary defined by theta.\n",
    "    Plots the data points with * for the positive examples and o for  the negative examples.\n",
    "    \"\"\"\n",
    "    \n",
    "    # make sure theta is a numpy array\n",
    "    theta = np.array(theta)\n",
    "    \n",
    "    # Plot Data (remember first column in X is the intercept)\n",
    "    plotData(X[:, 1:3], y)\n",
    "\n",
    "\n",
    "    \n",
    "    # Only need 2 points to define a line, so choose two endpoints\n",
    "    plot_x = np.array([np.min(X[:, 1]) - 2, np.max(X[:, 1]) + 2])\n",
    "\n",
    "    # Calculate the decision boundary line\n",
    "    plot_y = ((-1) / theta[2]) * (theta[1] * plot_x + theta[0])\n",
    "\n",
    "    # Plot, and adjust axes for better viewing\n",
    "    plt.plot(plot_x, plot_y)\n",
    "\n",
    "        # Legend, specific for the exercise\n",
    "    plt.legend(['Admitted', 'Not Admitted', 'Decision Boundary'])\n",
    "    \n",
    "    plt.show()"
   ]
  },
  {
   "cell_type": "code",
   "execution_count": 81,
   "metadata": {},
   "outputs": [],
   "source": [
    "## LOGISTIC REGRESSION\n",
    "\n",
    "class logistic_regression():\n",
    "    def __init__(self,alpha=0.001,iterations=100000):\n",
    "        self._theta=0\n",
    "        self._grad=0\n",
    "        self._alpha=0.001 # Learning Rate\n",
    "        self._iters=100000 # Iterations\n",
    "        self._J=0\n",
    "    \n",
    "    def _sigmoid(self,z):\n",
    "        \"\"\"\n",
    "        Compute sigmoid function given the input z.\n",
    "        \"\"\"\n",
    "    \n",
    "        z=np.array(z)\n",
    "        return 1 / (1 + np.exp(-z))\n",
    "\n",
    "\n",
    "    def _hx(self,theta,X):\n",
    "        \"\"\"\n",
    "            Compute Transpose Matrix\n",
    "    \n",
    "        \"\"\"\n",
    "        return np.dot(X,self._theta)\n",
    "    \n",
    "    def _sigmoid_hx(self,theta,X):\n",
    "        \"\"\"\n",
    "    \n",
    "            Passing the input matrix to a sigmoid function\n",
    "    \n",
    "        \"\"\"\n",
    "        return self._sigmoid(self._hx(self._theta,X))\n",
    "    \n",
    "    \n",
    "    def fit(self,X, y, plotDecisionBoundary, plotData,  xt, yt, x_m, y_m):\n",
    "        \"\"\"\n",
    "            Compute cost and gradient for logistic regression. \n",
    "    \n",
    "        \"\"\" \n",
    "\n",
    "        m = y.size #Training Size\n",
    "    \n",
    "        self._theta = np.zeros(X.shape[1])  #Initialising Theta\n",
    "        self._grad = np.zeros(self._theta.shape) #Initialising gradient\n",
    "        \n",
    "        ans = []\n",
    "        ans2 = []\n",
    "        ans3 = []\n",
    "        \n",
    "        for i in range(1,self._iters):\n",
    "            \n",
    "            if(i == 2):\n",
    "                theta_ans = []\n",
    "                theta_ans.append(self._theta[0])\n",
    "                theta_ans.append(self._theta[1])\n",
    "                theta_ans.append(self._theta[2])\n",
    "                ans.append(theta_ans)\n",
    "                \n",
    "                ans3.append(self.predict(np.hstack((np.ones((1200000,1)), np.c_[x_m.ravel(), y_m.ravel()]))).reshape(x_m.shape))\n",
    "                classification = classification_report(self.predict(xt), yt)\n",
    "                result = []\n",
    "                classification = classification.split(\"\\n\")\n",
    "\n",
    "                for j in [classification[j] for j in [2, 3, 5, 6, 7]]:\n",
    "                    result.append(j.split())\n",
    "                \n",
    "            \n",
    "                ans2.append(result)\n",
    "                print(result)\n",
    "                    \n",
    "            if(i%5000 == 0):\n",
    "                theta_ans = []\n",
    "                theta_ans.append(self._theta[0])\n",
    "                theta_ans.append(self._theta[1])\n",
    "                theta_ans.append(self._theta[2])\n",
    "                ans.append(theta_ans)\n",
    "                \n",
    "                ans3.append(self.predict(np.hstack((np.ones((1200000,1)), np.c_[x_m.ravel(), y_m.ravel()]))).reshape(x_m.shape))\n",
    "                \n",
    "                classification = classification_report(self.predict(xt), yt)\n",
    "                result = []\n",
    "                classification = classification.split(\"\\n\")\n",
    "\n",
    "                for j in [classification[j] for j in [2, 3, 5, 6, 7]]:\n",
    "                    result.append(j.split())\n",
    "                ans2.append(result)\n",
    "            \n",
    "            self._J=(-1/(y.size))*(np.sum(y*np.log(self._sigmoid_hx(self._theta,X))+(1-y)*np.log(1-self._sigmoid_hx(self._theta,X))))\n",
    "    \n",
    "            self._grad=(1 / m) * np.dot(X.T,self._sigmoid(self._hx(self._theta,X)) - y)\n",
    "        \n",
    "            self._theta=self._theta-(self._alpha)*self._grad\n",
    "            \n",
    "            \n",
    "        print(ans)\n",
    "        print()\n",
    "        print(ans2)\n",
    "        print()\n",
    "        return(ans3)\n",
    "        \n",
    "    \n",
    "    \n",
    "    def predict(self,X):\n",
    "        \n",
    "        predict_probabilities=self._sigmoid_hx(self._theta,X)\n",
    "    \n",
    "        y_pred_labels=predict_probabilities>0.5\n",
    "    \n",
    "        return y_pred_labels\n",
    "    \n",
    "    \n",
    "    def accuracy(self,y_predicted,y_test):\n",
    "    \n",
    "        y_predicted=np.where(y_predicted==True,1,y_predicted)\n",
    "        \n",
    "        accuracy=(y_predicted[y_predicted==y_test].size)/(y_predicted.size)*100\n",
    "        \n",
    "        return accuracy\n",
    "\n",
    "    def get_gradient(self):\n",
    "        \"\"\"\n",
    "         Public Method to return gradient value\n",
    "        \"\"\"\n",
    "        return self._grad\n",
    "    \n",
    "    def get_cost(self):\n",
    "        \"\"\"\n",
    "         Public Method to return Cost\n",
    "        \"\"\"\n",
    "        return self._J\n",
    "    \n",
    "    def get_theta(self):\n",
    "        \"\"\"\n",
    "         Public Method to return theta\n",
    "        \"\"\"\n",
    "        return self._theta"
   ]
  },
  {
   "cell_type": "code",
   "execution_count": 82,
   "metadata": {},
   "outputs": [],
   "source": [
    "logReg=logistic_regression() # CREATE INSTANCE OF LOGISTIC REGRESSION"
   ]
  },
  {
   "cell_type": "code",
   "execution_count": 83,
   "metadata": {},
   "outputs": [
    {
     "name": "stdout",
     "output_type": "stream",
     "text": [
      "[['0', '0.00', '0.00', '0.00', '0'], ['1', '1.00', '0.45', '0.62', '20'], ['accuracy', '0.45', '20'], ['macro', 'avg', '0.50', '0.23', '0.31', '20'], ['weighted', 'avg', '1.00', '0.45', '0.62', '20']]\n",
      "[[0.0001375, 0.013773793649292912, 0.013095873882144544], [-0.27678334955217243, 0.012962019136625778, 0.003405326097810618], [-0.5450693858442486, 0.0148342725185157, 0.005449806900972945], [-0.8050257232576185, 0.016656565051332218, 0.007434242656661899], [-1.0569609690061645, 0.01843032402844677, 0.00936060443475638], [-1.301185257415177, 0.020157027077562423, 0.011230910169474702], [-1.53800724989444, 0.02183818307294171, 0.013047201113519449], [-1.7677316181253393, 0.02347531545421982, 0.014811521095685166], [-1.9906569891254149, 0.025069947942099827, 0.016525898702449405], [-2.20707431748286, 0.026623592550574303, 0.018192332361607312], [-2.4172656418017064, 0.02813773973355312, 0.019812778195736548], [-2.621503178413615, 0.02961385046656802, 0.021389140435519694], [-2.8200487047369047, 0.031053350046552904, 0.022923264134799986], [-3.013153186379691, 0.03245762338970631, 0.02441692990600552], [-3.201056605376116, 0.03382801161475216, 0.025871850390759718], [-3.3839879511544217, 0.03516580971295536, 0.02728966819078785], [-3.562165340450742, 0.03647226512416353, 0.028671955003852386], [-3.7357962370406104, 0.03774857705785231, 0.030020211734530643], [-3.9050777466135482, 0.038995896418136715, 0.03133586937716548], [-4.070196966215432, 0.04021532621098097, 0.03262029049610831]]\n",
      "\n",
      "[[['0', '0.00', '0.00', '0.00', '0'], ['1', '1.00', '0.45', '0.62', '20'], ['accuracy', '0.45', '20'], ['macro', 'avg', '0.50', '0.23', '0.31', '20'], ['weighted', 'avg', '1.00', '0.45', '0.62', '20']], [['0', '0.00', '0.00', '0.00', '0'], ['1', '1.00', '0.45', '0.62', '20'], ['accuracy', '0.45', '20'], ['macro', 'avg', '0.50', '0.23', '0.31', '20'], ['weighted', 'avg', '1.00', '0.45', '0.62', '20']], [['0', '0.00', '0.00', '0.00', '0'], ['1', '1.00', '0.45', '0.62', '20'], ['accuracy', '0.45', '20'], ['macro', 'avg', '0.50', '0.23', '0.31', '20'], ['weighted', 'avg', '1.00', '0.45', '0.62', '20']], [['0', '0.00', '0.00', '0.00', '0'], ['1', '1.00', '0.45', '0.62', '20'], ['accuracy', '0.45', '20'], ['macro', 'avg', '0.50', '0.23', '0.31', '20'], ['weighted', 'avg', '1.00', '0.45', '0.62', '20']], [['False', '0.27', '1.00', '0.43', '3'], ['True', '1.00', '0.53', '0.69', '17'], ['accuracy', '0.60', '20'], ['macro', 'avg', '0.64', '0.76', '0.56', '20'], ['weighted', 'avg', '0.89', '0.60', '0.65', '20']], [['False', '0.36', '1.00', '0.53', '4'], ['True', '1.00', '0.56', '0.72', '16'], ['accuracy', '0.65', '20'], ['macro', 'avg', '0.68', '0.78', '0.63', '20'], ['weighted', 'avg', '0.87', '0.65', '0.68', '20']], [['False', '0.36', '1.00', '0.53', '4'], ['True', '1.00', '0.56', '0.72', '16'], ['accuracy', '0.65', '20'], ['macro', 'avg', '0.68', '0.78', '0.63', '20'], ['weighted', 'avg', '0.87', '0.65', '0.68', '20']], [['False', '0.36', '1.00', '0.53', '4'], ['True', '1.00', '0.56', '0.72', '16'], ['accuracy', '0.65', '20'], ['macro', 'avg', '0.68', '0.78', '0.63', '20'], ['weighted', 'avg', '0.87', '0.65', '0.68', '20']], [['False', '0.45', '1.00', '0.62', '5'], ['True', '1.00', '0.60', '0.75', '15'], ['accuracy', '0.70', '20'], ['macro', 'avg', '0.73', '0.80', '0.69', '20'], ['weighted', 'avg', '0.86', '0.70', '0.72', '20']], [['False', '0.45', '1.00', '0.62', '5'], ['True', '1.00', '0.60', '0.75', '15'], ['accuracy', '0.70', '20'], ['macro', 'avg', '0.73', '0.80', '0.69', '20'], ['weighted', 'avg', '0.86', '0.70', '0.72', '20']], [['False', '0.82', '1.00', '0.90', '9'], ['True', '1.00', '0.82', '0.90', '11'], ['accuracy', '0.90', '20'], ['macro', 'avg', '0.91', '0.91', '0.90', '20'], ['weighted', 'avg', '0.92', '0.90', '0.90', '20']], [['False', '0.82', '1.00', '0.90', '9'], ['True', '1.00', '0.82', '0.90', '11'], ['accuracy', '0.90', '20'], ['macro', 'avg', '0.91', '0.91', '0.90', '20'], ['weighted', 'avg', '0.92', '0.90', '0.90', '20']], [['False', '0.82', '1.00', '0.90', '9'], ['True', '1.00', '0.82', '0.90', '11'], ['accuracy', '0.90', '20'], ['macro', 'avg', '0.91', '0.91', '0.90', '20'], ['weighted', 'avg', '0.92', '0.90', '0.90', '20']], [['False', '0.82', '1.00', '0.90', '9'], ['True', '1.00', '0.82', '0.90', '11'], ['accuracy', '0.90', '20'], ['macro', 'avg', '0.91', '0.91', '0.90', '20'], ['weighted', 'avg', '0.92', '0.90', '0.90', '20']], [['False', '0.82', '1.00', '0.90', '9'], ['True', '1.00', '0.82', '0.90', '11'], ['accuracy', '0.90', '20'], ['macro', 'avg', '0.91', '0.91', '0.90', '20'], ['weighted', 'avg', '0.92', '0.90', '0.90', '20']], [['False', '0.82', '1.00', '0.90', '9'], ['True', '1.00', '0.82', '0.90', '11'], ['accuracy', '0.90', '20'], ['macro', 'avg', '0.91', '0.91', '0.90', '20'], ['weighted', 'avg', '0.92', '0.90', '0.90', '20']], [['False', '0.82', '1.00', '0.90', '9'], ['True', '1.00', '0.82', '0.90', '11'], ['accuracy', '0.90', '20'], ['macro', 'avg', '0.91', '0.91', '0.90', '20'], ['weighted', 'avg', '0.92', '0.90', '0.90', '20']], [['False', '0.82', '1.00', '0.90', '9'], ['True', '1.00', '0.82', '0.90', '11'], ['accuracy', '0.90', '20'], ['macro', 'avg', '0.91', '0.91', '0.90', '20'], ['weighted', 'avg', '0.92', '0.90', '0.90', '20']], [['False', '0.82', '1.00', '0.90', '9'], ['True', '1.00', '0.82', '0.90', '11'], ['accuracy', '0.90', '20'], ['macro', 'avg', '0.91', '0.91', '0.90', '20'], ['weighted', 'avg', '0.92', '0.90', '0.90', '20']], [['False', '0.82', '1.00', '0.90', '9'], ['True', '1.00', '0.82', '0.90', '11'], ['accuracy', '0.90', '20'], ['macro', 'avg', '0.91', '0.91', '0.90', '20'], ['weighted', 'avg', '0.92', '0.90', '0.90', '20']]]\n",
      "\n"
     ]
    }
   ],
   "source": [
    "xa = logReg.fit(X,y, plotDecisionBoundary, plotData, xt, yt, x_m, y_m) # FIT THE MODEL"
   ]
  },
  {
   "cell_type": "code",
   "execution_count": 84,
   "metadata": {},
   "outputs": [],
   "source": [
    "import pickle"
   ]
  },
  {
   "cell_type": "code",
   "execution_count": 80,
   "metadata": {},
   "outputs": [
    {
     "ename": "AttributeError",
     "evalue": "'list' object has no attribute 'reshape'",
     "output_type": "error",
     "traceback": [
      "\u001b[0;31m---------------------------------------------------------------------------\u001b[0m",
      "\u001b[0;31mAttributeError\u001b[0m                            Traceback (most recent call last)",
      "\u001b[0;32m<ipython-input-80-4dcabfc2577b>\u001b[0m in \u001b[0;36m<module>\u001b[0;34m\u001b[0m\n\u001b[0;32m----> 1\u001b[0;31m \u001b[0mxa\u001b[0m\u001b[0;34m.\u001b[0m\u001b[0mreshape\u001b[0m\u001b[0;34m(\u001b[0m\u001b[0mx_m\u001b[0m\u001b[0;34m.\u001b[0m\u001b[0mshape\u001b[0m\u001b[0;34m)\u001b[0m\u001b[0;34m\u001b[0m\u001b[0;34m\u001b[0m\u001b[0m\n\u001b[0m",
      "\u001b[0;31mAttributeError\u001b[0m: 'list' object has no attribute 'reshape'"
     ]
    }
   ],
   "source": [
    "xa.reshape(x_m.shape)"
   ]
  },
  {
   "cell_type": "code",
   "execution_count": 85,
   "metadata": {},
   "outputs": [],
   "source": [
    "pickle_out = open(\"reg\",\"wb\")\n",
    "pickle.dump(xa, pickle_out)\n",
    "pickle_out.close()"
   ]
  },
  {
   "cell_type": "code",
   "execution_count": 86,
   "metadata": {},
   "outputs": [
    {
     "data": {
      "text/plain": [
       "[array([[ True,  True,  True, ...,  True,  True,  True],\n",
       "        [ True,  True,  True, ...,  True,  True,  True],\n",
       "        [ True,  True,  True, ...,  True,  True,  True],\n",
       "        ...,\n",
       "        [ True,  True,  True, ...,  True,  True,  True],\n",
       "        [ True,  True,  True, ...,  True,  True,  True],\n",
       "        [ True,  True,  True, ...,  True,  True,  True]]),\n",
       " array([[False, False, False, ...,  True,  True,  True],\n",
       "        [False, False, False, ...,  True,  True,  True],\n",
       "        [False, False, False, ...,  True,  True,  True],\n",
       "        ...,\n",
       "        [ True,  True,  True, ...,  True,  True,  True],\n",
       "        [ True,  True,  True, ...,  True,  True,  True],\n",
       "        [ True,  True,  True, ...,  True,  True,  True]]),\n",
       " array([[False, False, False, ...,  True,  True,  True],\n",
       "        [False, False, False, ...,  True,  True,  True],\n",
       "        [False, False, False, ...,  True,  True,  True],\n",
       "        ...,\n",
       "        [ True,  True,  True, ...,  True,  True,  True],\n",
       "        [ True,  True,  True, ...,  True,  True,  True],\n",
       "        [ True,  True,  True, ...,  True,  True,  True]]),\n",
       " array([[False, False, False, ...,  True,  True,  True],\n",
       "        [False, False, False, ...,  True,  True,  True],\n",
       "        [False, False, False, ...,  True,  True,  True],\n",
       "        ...,\n",
       "        [ True,  True,  True, ...,  True,  True,  True],\n",
       "        [ True,  True,  True, ...,  True,  True,  True],\n",
       "        [ True,  True,  True, ...,  True,  True,  True]]),\n",
       " array([[False, False, False, ...,  True,  True,  True],\n",
       "        [False, False, False, ...,  True,  True,  True],\n",
       "        [False, False, False, ...,  True,  True,  True],\n",
       "        ...,\n",
       "        [ True,  True,  True, ...,  True,  True,  True],\n",
       "        [ True,  True,  True, ...,  True,  True,  True],\n",
       "        [ True,  True,  True, ...,  True,  True,  True]]),\n",
       " array([[False, False, False, ...,  True,  True,  True],\n",
       "        [False, False, False, ...,  True,  True,  True],\n",
       "        [False, False, False, ...,  True,  True,  True],\n",
       "        ...,\n",
       "        [ True,  True,  True, ...,  True,  True,  True],\n",
       "        [ True,  True,  True, ...,  True,  True,  True],\n",
       "        [ True,  True,  True, ...,  True,  True,  True]]),\n",
       " array([[False, False, False, ...,  True,  True,  True],\n",
       "        [False, False, False, ...,  True,  True,  True],\n",
       "        [False, False, False, ...,  True,  True,  True],\n",
       "        ...,\n",
       "        [ True,  True,  True, ...,  True,  True,  True],\n",
       "        [ True,  True,  True, ...,  True,  True,  True],\n",
       "        [ True,  True,  True, ...,  True,  True,  True]]),\n",
       " array([[False, False, False, ...,  True,  True,  True],\n",
       "        [False, False, False, ...,  True,  True,  True],\n",
       "        [False, False, False, ...,  True,  True,  True],\n",
       "        ...,\n",
       "        [ True,  True,  True, ...,  True,  True,  True],\n",
       "        [ True,  True,  True, ...,  True,  True,  True],\n",
       "        [ True,  True,  True, ...,  True,  True,  True]]),\n",
       " array([[False, False, False, ...,  True,  True,  True],\n",
       "        [False, False, False, ...,  True,  True,  True],\n",
       "        [False, False, False, ...,  True,  True,  True],\n",
       "        ...,\n",
       "        [False, False, False, ...,  True,  True,  True],\n",
       "        [False, False, False, ...,  True,  True,  True],\n",
       "        [False, False, False, ...,  True,  True,  True]]),\n",
       " array([[False, False, False, ...,  True,  True,  True],\n",
       "        [False, False, False, ...,  True,  True,  True],\n",
       "        [False, False, False, ...,  True,  True,  True],\n",
       "        ...,\n",
       "        [False, False, False, ...,  True,  True,  True],\n",
       "        [False, False, False, ...,  True,  True,  True],\n",
       "        [False, False, False, ...,  True,  True,  True]]),\n",
       " array([[False, False, False, ...,  True,  True,  True],\n",
       "        [False, False, False, ...,  True,  True,  True],\n",
       "        [False, False, False, ...,  True,  True,  True],\n",
       "        ...,\n",
       "        [False, False, False, ...,  True,  True,  True],\n",
       "        [False, False, False, ...,  True,  True,  True],\n",
       "        [False, False, False, ...,  True,  True,  True]]),\n",
       " array([[False, False, False, ...,  True,  True,  True],\n",
       "        [False, False, False, ...,  True,  True,  True],\n",
       "        [False, False, False, ...,  True,  True,  True],\n",
       "        ...,\n",
       "        [False, False, False, ...,  True,  True,  True],\n",
       "        [False, False, False, ...,  True,  True,  True],\n",
       "        [False, False, False, ...,  True,  True,  True]]),\n",
       " array([[False, False, False, ...,  True,  True,  True],\n",
       "        [False, False, False, ...,  True,  True,  True],\n",
       "        [False, False, False, ...,  True,  True,  True],\n",
       "        ...,\n",
       "        [False, False, False, ...,  True,  True,  True],\n",
       "        [False, False, False, ...,  True,  True,  True],\n",
       "        [False, False, False, ...,  True,  True,  True]]),\n",
       " array([[False, False, False, ...,  True,  True,  True],\n",
       "        [False, False, False, ...,  True,  True,  True],\n",
       "        [False, False, False, ...,  True,  True,  True],\n",
       "        ...,\n",
       "        [False, False, False, ...,  True,  True,  True],\n",
       "        [False, False, False, ...,  True,  True,  True],\n",
       "        [False, False, False, ...,  True,  True,  True]]),\n",
       " array([[False, False, False, ...,  True,  True,  True],\n",
       "        [False, False, False, ...,  True,  True,  True],\n",
       "        [False, False, False, ...,  True,  True,  True],\n",
       "        ...,\n",
       "        [False, False, False, ...,  True,  True,  True],\n",
       "        [False, False, False, ...,  True,  True,  True],\n",
       "        [False, False, False, ...,  True,  True,  True]]),\n",
       " array([[False, False, False, ...,  True,  True,  True],\n",
       "        [False, False, False, ...,  True,  True,  True],\n",
       "        [False, False, False, ...,  True,  True,  True],\n",
       "        ...,\n",
       "        [False, False, False, ...,  True,  True,  True],\n",
       "        [False, False, False, ...,  True,  True,  True],\n",
       "        [False, False, False, ...,  True,  True,  True]]),\n",
       " array([[False, False, False, ...,  True,  True,  True],\n",
       "        [False, False, False, ...,  True,  True,  True],\n",
       "        [False, False, False, ...,  True,  True,  True],\n",
       "        ...,\n",
       "        [False, False, False, ...,  True,  True,  True],\n",
       "        [False, False, False, ...,  True,  True,  True],\n",
       "        [False, False, False, ...,  True,  True,  True]]),\n",
       " array([[False, False, False, ...,  True,  True,  True],\n",
       "        [False, False, False, ...,  True,  True,  True],\n",
       "        [False, False, False, ...,  True,  True,  True],\n",
       "        ...,\n",
       "        [False, False, False, ...,  True,  True,  True],\n",
       "        [False, False, False, ...,  True,  True,  True],\n",
       "        [False, False, False, ...,  True,  True,  True]]),\n",
       " array([[False, False, False, ..., False, False, False],\n",
       "        [False, False, False, ..., False, False, False],\n",
       "        [False, False, False, ..., False, False, False],\n",
       "        ...,\n",
       "        [False, False, False, ...,  True,  True,  True],\n",
       "        [False, False, False, ...,  True,  True,  True],\n",
       "        [False, False, False, ...,  True,  True,  True]]),\n",
       " array([[False, False, False, ..., False, False, False],\n",
       "        [False, False, False, ..., False, False, False],\n",
       "        [False, False, False, ..., False, False, False],\n",
       "        ...,\n",
       "        [False, False, False, ...,  True,  True,  True],\n",
       "        [False, False, False, ...,  True,  True,  True],\n",
       "        [False, False, False, ...,  True,  True,  True]])]"
      ]
     },
     "execution_count": 86,
     "metadata": {},
     "output_type": "execute_result"
    }
   ],
   "source": [
    "pickle_in = open(\"reg\",\"rb\")\n",
    "pickle.load(pickle_in)"
   ]
  },
  {
   "cell_type": "code",
   "execution_count": null,
   "metadata": {},
   "outputs": [],
   "source": []
  }
 ],
 "metadata": {
  "kernelspec": {
   "display_name": "Python 3",
   "language": "python",
   "name": "python3"
  },
  "language_info": {
   "codemirror_mode": {
    "name": "ipython",
    "version": 3
   },
   "file_extension": ".py",
   "mimetype": "text/x-python",
   "name": "python",
   "nbconvert_exporter": "python",
   "pygments_lexer": "ipython3",
   "version": "3.6.9"
  }
 },
 "nbformat": 4,
 "nbformat_minor": 2
}
